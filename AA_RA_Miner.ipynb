{
 "cells": [
  {
   "cell_type": "code",
   "execution_count": 51,
   "metadata": {},
   "outputs": [],
   "source": [
    "import networkx as nx\n",
    "import matplotlib.pyplot as plt\n",
    "import pandas as pd\n",
    "from gae.preprocessing import mask_test_edges\n",
    "import scipy.sparse as sp\n",
    "import netwulf as nw\n",
    "from netwulf import visualize\n",
    "import numpy as np\n",
    "from sklearn.metrics import roc_auc_score\n",
    "from sklearn.metrics import average_precision_score\n",
    "from preprocessGAE import mask_test_edges\n",
    "from sklearn.metrics import accuracy_score"
   ]
  },
  {
   "cell_type": "markdown",
   "metadata": {},
   "source": [
    "# 1. Preprocessing"
   ]
  },
  {
   "cell_type": "markdown",
   "metadata": {},
   "source": [
    "#####  10% Validation and 20% Test Set Split in mask_test_edges impl from VGAE."
   ]
  },
  {
   "cell_type": "code",
   "execution_count": 53,
   "metadata": {},
   "outputs": [
    {
     "name": "stdout",
     "output_type": "stream",
     "text": [
      "(7341, 7341)\n"
     ]
    }
   ],
   "source": [
    "# Read Edgelist data using networkx\n",
    "g = nx.read_edgelist('ChG-Miner_miner-chem-gene.tsv', delimiter='\\t')\n",
    "\n",
    "# make sure train-test split is consistent between notebooks by seeding to 0\n",
    "np.random.seed(0) \n",
    "\n",
    "# SCIPY Data structure to store sparse matrix efficiently.\n",
    "adj_sparse = nx.to_scipy_sparse_matrix(g)\n",
    "\n",
    "# Perform train-test-val split using GAE preprocessing step\n",
    "adj_train, train_edges, val_edges, val_edges_false, test_edges, test_edges_false = mask_test_edges(adj_sparse)\n",
    "\n",
    "# Train networkx graph object with only non-hidden edges\n",
    "g_train = nx.from_scipy_sparse_matrix(adj_train)\n",
    "print(adj_sparse.shape)"
   ]
  },
  {
   "cell_type": "code",
   "execution_count": 54,
   "metadata": {},
   "outputs": [
    {
     "name": "stdout",
     "output_type": "stream",
     "text": [
      "Total nodes: 7341\n",
      "Total edges: 15138\n",
      "Training edges (positive): 10598\n",
      "Validation edges (positive): 1513\n",
      "Validation edges (negative): 1513\n",
      "Test edges (positive): 3027\n",
      "Test edges (negative): 3027\n"
     ]
    }
   ],
   "source": [
    "# train/test split\n",
    "print (\"Total nodes:\", adj_sparse.shape[0])\n",
    "print (\"Total edges:\", int(adj_sparse.nnz/2)) # adj is symmetric, so nnz (num non-zero) = 2*num_edges\n",
    "print (\"Training edges (positive):\", len(train_edges))\n",
    "print (\"Validation edges (positive):\", len(val_edges))\n",
    "print (\"Validation edges (negative):\", len(val_edges_false))\n",
    "print (\"Test edges (positive):\", len(test_edges))\n",
    "print (\"Test edges (negative):\", len(test_edges_false))"
   ]
  },
  {
   "cell_type": "code",
   "execution_count": 55,
   "metadata": {},
   "outputs": [],
   "source": [
    "def get_roc_score(edges_pos, edges_neg, score_matrix):\n",
    "    \n",
    "    # Store positive edge predictions, actual values\n",
    "    preds_pos = []\n",
    "    pos = []\n",
    "    for edge in edges_pos:\n",
    "        preds_pos.append(score_matrix[edge[0], edge[1]]) # predicted score\n",
    "        pos.append(adj_sparse[edge[0], edge[1]]) # actual value (1 for positive)\n",
    "    \n",
    "    # Store negative edge predictions, actual values\n",
    "    preds_neg = []\n",
    "    neg = []\n",
    "    for edge in edges_neg:\n",
    "        preds_neg.append(score_matrix[edge[0], edge[1]]) # predicted score\n",
    "        neg.append(adj_sparse[edge[0], edge[1]]) # actual value (0 for negative)\n",
    "        \n",
    "    # Calculate scores\n",
    "    preds_all = np.hstack([preds_pos, preds_neg])\n",
    "    labels_all = np.hstack([np.ones(len(preds_pos)), np.zeros(len(preds_neg))])\n",
    "    roc_score = roc_auc_score(labels_all, preds_all)\n",
    "    ap_score = average_precision_score(labels_all, preds_all)\n",
    "    acc=accuracy_score(labels_all, preds_all)\n",
    "    return roc_score, ap_score, acc"
   ]
  },
  {
   "cell_type": "markdown",
   "metadata": {},
   "source": [
    "### Adamic Adar"
   ]
  },
  {
   "cell_type": "code",
   "execution_count": 56,
   "metadata": {},
   "outputs": [],
   "source": [
    "# Compute Adamic-Adar indexes from g_train\n",
    "aa_matrix = np.zeros(adj_sparse.shape)\n",
    "for u, v, p in nx.adamic_adar_index(g_train): # (u, v) = node indices, p = Adamic-Adar index\n",
    "    aa_matrix[u][v] = p\n",
    "    aa_matrix[v][u] = p # make sure it's symmetric   "
   ]
  },
  {
   "cell_type": "code",
   "execution_count": 57,
   "metadata": {},
   "outputs": [
    {
     "name": "stdout",
     "output_type": "stream",
     "text": [
      "Maximum Index : 65.44035013081802\n"
     ]
    }
   ],
   "source": [
    "print('Maximum Index : ' + str(aa_matrix.max()))\n",
    "# Normalize array\n",
    "aa_matrix = aa_matrix / aa_matrix.max()"
   ]
  },
  {
   "cell_type": "code",
   "execution_count": 58,
   "metadata": {},
   "outputs": [],
   "source": [
    "#Setting up threshold for AA index approx\n",
    "thrarray=[0.0008,0.0009,0.001,0.002,0.003,0.004,0.005,0.006,0.007,0.008,0.009,0.01]\n",
    "percentage1s=[]\n",
    "for threshold in thrarray:\n",
    "    i=0\n",
    "    new_mat=aa_matrix >= threshold\n",
    "    # treating all values satisfying above condition as 1 others 0\n",
    "    #final_mat=new_mat.astype(int)\n",
    "    #print(new_mat)\n",
    "    final_mat=1*new_mat\n",
    "    unique, counts = np.unique(final_mat, return_counts=True)\n",
    "    d=dict(zip(unique, counts))\n",
    "    percentage1s.append(d[1]/53890281*100)"
   ]
  },
  {
   "cell_type": "code",
   "execution_count": 59,
   "metadata": {},
   "outputs": [
    {
     "data": {
      "image/png": "[encoded data removed]",
      "text/plain": [
       "<Figure size 432x288 with 1 Axes>"
      ]
     },
     "metadata": {
      "needs_background": "light"
     },
     "output_type": "display_data"
    }
   ],
   "source": [
    "df1=pd.DataFrame({'x': thrarray, \n",
    "                 'perc': percentage1s\n",
    "                  })\n",
    "\n",
    "plt.plot( 'x', 'perc', data=df1, marker='o', markerfacecolor='blue', markersize=10, color='skyblue', linewidth=3,label='percentage of 1s')\n",
    "plt.legend()\n",
    "plt.xlabel('Threshold')\n",
    "plt.savefig('Miner_AA_Threshold.png', bbox_inches='tight')"
   ]
  },
  {
   "cell_type": "code",
   "execution_count": 60,
   "metadata": {},
   "outputs": [],
   "source": [
    "#selecting the threshold based on the distribution of 1s in percentage\n",
    "new_mat=aa_matrix >= 0.03\n",
    "final_mat=1*new_mat"
   ]
  },
  {
   "cell_type": "code",
   "execution_count": 61,
   "metadata": {},
   "outputs": [
    {
     "name": "stdout",
     "output_type": "stream",
     "text": [
      "Adamic-Adar Test ROC score:  0.5\n",
      "Adamic-Adar Test AP score:  0.5\n",
      "Adamic-Adar Test Accuracy score:  0.5\n"
     ]
    }
   ],
   "source": [
    "# Calculate ROC AUC and Average Precision\n",
    "aa_roc, aa_ap, acc = get_roc_score(test_edges, test_edges_false, final_mat)\n",
    "\n",
    "print ('Adamic-Adar Test ROC score: ', str(aa_roc))\n",
    "print ('Adamic-Adar Test AP score: ', str(aa_ap))\n",
    "print ('Adamic-Adar Test Accuracy score: ', str(acc))\n"
   ]
  },
  {
   "cell_type": "markdown",
   "metadata": {},
   "source": [
    "### Resource Allocation"
   ]
  },
  {
   "cell_type": "code",
   "execution_count": 13,
   "metadata": {},
   "outputs": [],
   "source": [
    "# Compute Resource-allocation indexes from g_train\n",
    "ra_matrix = np.zeros(adj_sparse.shape)\n",
    "for u, v, p in nx.resource_allocation_index(g_train): # (u, v) = node indices, p = Resource allocation index\n",
    "    ra_matrix[u][v] = p\n",
    "    ra_matrix[v][u] = p # make sure it's symmetric"
   ]
  },
  {
   "cell_type": "code",
   "execution_count": 14,
   "metadata": {},
   "outputs": [
    {
     "name": "stdout",
     "output_type": "stream",
     "text": [
      "Maximum Index : 22.7297124113732\n"
     ]
    }
   ],
   "source": [
    "print('Maximum Index : ' + str(ra_matrix.max()))\n",
    "\n",
    "#Normalize\n",
    "ra_matrix = ra_matrix / ra_matrix.max()"
   ]
  },
  {
   "cell_type": "code",
   "execution_count": 15,
   "metadata": {},
   "outputs": [],
   "source": [
    "#Setting up threshold for AA index approx\n",
    "thrarray=[0.0008,0.0009,0.001,0.002,0.003,0.004,0.005,0.006,0.007,0.008,0.009,0.01]\n",
    "percentage1s=[]\n",
    "for threshold in thrarray:\n",
    "    i=0\n",
    "    new_mat=ra_matrix >= threshold\n",
    "    # treating all values satisfying above condition as 1 others 0\n",
    "    #final_mat=new_mat.astype(int)\n",
    "    #print(new_mat)\n",
    "    final_mat=1*new_mat\n",
    "    unique, counts = np.unique(final_mat, return_counts=True)\n",
    "    d=dict(zip(unique, counts))\n",
    "    percentage1s.append(d[1]/53890281*100)\n"
   ]
  },
  {
   "cell_type": "code",
   "execution_count": 16,
   "metadata": {},
   "outputs": [
    {
     "data": {
      "image/png": "[encoded data removed]",
      "text/plain": [
       "<Figure size 432x288 with 1 Axes>"
      ]
     },
     "metadata": {
      "needs_background": "light"
     },
     "output_type": "display_data"
    }
   ],
   "source": [
    "df1=pd.DataFrame({'x': thrarray, \n",
    "                 'perc': percentage1s\n",
    "                  })\n",
    "\n",
    "plt.plot( 'x', 'perc', data=df1, marker='o', markerfacecolor='blue', markersize=10, color='skyblue', linewidth=3,label='percentage of 1s')\n",
    "plt.legend()\n",
    "plt.xlabel('Threshold')\n",
    "plt.savefig('Miner_RA_Threshold.png', bbox_inches='tight')"
   ]
  },
  {
   "cell_type": "code",
   "execution_count": 17,
   "metadata": {},
   "outputs": [],
   "source": [
    "#selecting the threshold based on the distribution of 1s in percentage\n",
    "new_mat=ra_matrix >= 0.02\n",
    "final_mat=1*new_mat"
   ]
  },
  {
   "cell_type": "code",
   "execution_count": 18,
   "metadata": {},
   "outputs": [
    {
     "name": "stdout",
     "output_type": "stream",
     "text": [
      "Resource Allocation Test ROC score:  0.5\n",
      "Resource Allocation Test AP score:  0.5\n"
     ]
    }
   ],
   "source": [
    "###### Calculate ROC AUC and Average Precision\n",
    "ra_roc, ra_ap, acc = get_roc_score(test_edges, test_edges_false, final_mat)\n",
    "\n",
    "print ('Resource Allocation Test ROC score: ', str(ra_roc))\n",
    "print ('Resource Allocation Test AP score: ', str(ra_ap))\n",
    "print ('Resource Allocation Test Accuracy score: ', str(acc))"
   ]
  },
  {
   "cell_type": "code",
   "execution_count": null,
   "metadata": {},
   "outputs": [],
   "source": []
  }
 ],
 "metadata": {
  "kernelspec": {
   "display_name": "Python 3",
   "language": "python",
   "name": "python3"
  },
  "language_info": {
   "codemirror_mode": {
    "name": "ipython",
    "version": 3
   },
   "file_extension": ".py",
   "mimetype": "text/x-python",
   "name": "python",
   "nbconvert_exporter": "python",
   "pygments_lexer": "ipython3",
   "version": "3.7.7"
  }
 },
 "nbformat": 4,
 "nbformat_minor": 4
}

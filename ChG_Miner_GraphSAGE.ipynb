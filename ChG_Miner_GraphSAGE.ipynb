{
 "cells": [
  {
   "cell_type": "code",
   "execution_count": 1,
   "metadata": {},
   "outputs": [
    {
     "name": "stderr",
     "output_type": "stream",
     "text": [
      "\n",
      "Bad key \"text.kerning_factor\" on line 4 in\n",
      "/home/apurv/anaconda3/envs/tf/lib/python3.7/site-packages/matplotlib/mpl-data/stylelib/_classic_test_patch.mplstyle.\n",
      "You probably need to get an updated matplotlibrc file from\n",
      "https://github.com/matplotlib/matplotlib/blob/v3.1.3/matplotlibrc.template\n",
      "or from the matplotlib source distribution\n"
     ]
    }
   ],
   "source": [
    "import networkx as nx\n",
    "import matplotlib.pyplot as plt\n",
    "import netwulf as nw\n",
    "from netwulf import visualize\n",
    "import pandas as pd\n",
    "from statistics import mean\n",
    "import stellargraph as sg\n",
    "from stellargraph.data import EdgeSplitter\n",
    "from sklearn.model_selection import train_test_split\n",
    "from stellargraph.mapper import GraphSAGELinkGenerator\n",
    "from stellargraph.layer import GraphSAGE, link_classification\n",
    "from tensorflow import keras\n",
    "from sklearn import preprocessing, feature_extraction, model_selection\n",
    "from math import log\n",
    "import os\n",
    "import numpy as np"
   ]
  },
  {
   "cell_type": "code",
   "execution_count": 2,
   "metadata": {},
   "outputs": [
    {
     "name": "stdout",
     "output_type": "stream",
     "text": [
      "         drug  gene\n",
      "DB05127     1     0\n",
      "P49190      0     1\n",
      "DB04716     1     0\n",
      "Average Degree : 4.123382813563938\n",
      "StellarGraph: Undirected multigraph\n",
      " Nodes: 7343, Edges: 15139\n",
      "\n",
      " Node types:\n",
      "  default: [7343]\n",
      "    Features: float32 vector, length 2\n",
      "    Edge types: default-default->default\n",
      "\n",
      " Edge types:\n",
      "    default-default->default: [15139]\n",
      "        Weights: all 1 (default)\n"
     ]
    }
   ],
   "source": [
    "# GraphSAGE and GAT Preprocessing \n",
    "# Step 1 Loading Graph Data (Making it Homogenous)\n",
    "# Treating drug and gene name as an feature dimensions and creating 2-D one-hot vector \n",
    "\n",
    "edges = pd.read_csv('ChG-Miner_miner-chem-gene.tsv', sep = '\\t')\n",
    "drugs = pd.DataFrame(index=pd.unique(edges[\"#Drug\"])).assign(drug=1, gene=0)\n",
    "genes = pd.DataFrame(index=pd.unique(edges[\"Gene\"])).assign(drug=0, gene=1)\n",
    "\n",
    "nodes = pd.concat([drugs, genes])\n",
    "Minergraphv = sg.StellarGraph(\n",
    "    nodes, \n",
    "    edges,\n",
    "    source_column=\"#Drug\", \n",
    "    target_column=\"Gene\",\n",
    ")\n",
    "# Need to write Steller Graph constructor to create a graph with one node type\n",
    "print(nodes.sample(3))\n",
    "G=Minergraphv.node_degrees()\n",
    "#print('Average Degree : ' + str(mean(G[k] for k in G)))\n",
    "#print(Minergraphv.info())"
   ]
  },
  {
   "cell_type": "code",
   "execution_count": 3,
   "metadata": {},
   "outputs": [
    {
     "name": "stdout",
     "output_type": "stream",
     "text": [
      "Removed 1000 edges\n",
      "Sampled 1000 negative examples\n",
      "** Sampled 1513 positive and 1513 negative edges. **\n"
     ]
    }
   ],
   "source": [
    "# Define an edge splitter on the original graph G:\n",
    "edge_splitter_test = EdgeSplitter(Minergraphv)\n",
    "\n",
    "# Randomly sample a fraction p=0.1 of all positive links, and same number of negative links, from G, and obtain the\n",
    "# reduced graph G_test with the sampled links removed:\n",
    "G_test, edge_ids_test, edge_labels_test = edge_splitter_test.train_test_split(\n",
    "    p=0.1, method=\"global\", keep_connected=True\n",
    ")"
   ]
  },
  {
   "cell_type": "code",
   "execution_count": 4,
   "metadata": {},
   "outputs": [
    {
     "name": "stdout",
     "output_type": "stream",
     "text": [
      "Removed 1000 edges\n",
      "Sampled 1000 negative examples\n",
      "** Sampled 1362 positive and 1362 negative edges. **\n"
     ]
    }
   ],
   "source": [
    "# Define an edge splitter on the reduced graph G_test:\n",
    "edge_splitter_train = EdgeSplitter(G_test)\n",
    "\n",
    "# Randomly sample a fraction p=0.1 of all positive links, and same number of negative links, from G_test, and obtain the\n",
    "# reduced graph G_train with the sampled links removed:\n",
    "G_train, edge_ids_train, edge_labels_train = edge_splitter_train.train_test_split(\n",
    "    p=0.1, method=\"global\", keep_connected=True\n",
    ")"
   ]
  },
  {
   "cell_type": "code",
   "execution_count": 5,
   "metadata": {},
   "outputs": [
    {
     "name": "stdout",
     "output_type": "stream",
     "text": [
      "StellarGraph: Undirected multigraph\n",
      " Nodes: 7343, Edges: 12264\n",
      "\n",
      " Node types:\n",
      "  default: [7343]\n",
      "    Features: float32 vector, length 2\n",
      "    Edge types: default-default->default\n",
      "\n",
      " Edge types:\n",
      "    default-default->default: [12264]\n",
      "        Weights: all 1 (default)\n"
     ]
    }
   ],
   "source": [
    "print(G_train.info())"
   ]
  },
  {
   "cell_type": "code",
   "execution_count": 6,
   "metadata": {},
   "outputs": [
    {
     "name": "stdout",
     "output_type": "stream",
     "text": [
      "StellarGraph: Undirected multigraph\n",
      " Nodes: 7343, Edges: 13626\n",
      "\n",
      " Node types:\n",
      "  default: [7343]\n",
      "    Features: float32 vector, length 2\n",
      "    Edge types: default-default->default\n",
      "\n",
      " Edge types:\n",
      "    default-default->default: [13626]\n",
      "        Weights: all 1 (default)\n"
     ]
    }
   ],
   "source": [
    "print(G_test.info())"
   ]
  },
  {
   "cell_type": "code",
   "execution_count": 7,
   "metadata": {},
   "outputs": [],
   "source": [
    "batch_size = 20\n",
    "epochs = 20"
   ]
  },
  {
   "cell_type": "code",
   "execution_count": 8,
   "metadata": {},
   "outputs": [],
   "source": [
    "num_samples = [20, 10]"
   ]
  },
  {
   "cell_type": "code",
   "execution_count": 9,
   "metadata": {},
   "outputs": [],
   "source": [
    "#Training with Shuffle 2 layers\n",
    "train_gen = GraphSAGELinkGenerator(G_train, batch_size, num_samples)\n",
    "train_flow = train_gen.flow(edge_ids_train, edge_labels_train, shuffle=True)"
   ]
  },
  {
   "cell_type": "code",
   "execution_count": 10,
   "metadata": {},
   "outputs": [],
   "source": [
    "# Test without shuffle\n",
    "test_gen = GraphSAGELinkGenerator(G_test, batch_size, num_samples)\n",
    "test_flow = test_gen.flow(edge_ids_test, edge_labels_test)"
   ]
  },
  {
   "cell_type": "code",
   "execution_count": 11,
   "metadata": {},
   "outputs": [],
   "source": [
    "layer_sizes = [20, 20]\n",
    "graphsage = GraphSAGE(\n",
    "    layer_sizes=layer_sizes, generator=train_gen, bias=True, dropout=0.3\n",
    ")"
   ]
  },
  {
   "cell_type": "code",
   "execution_count": 12,
   "metadata": {},
   "outputs": [],
   "source": [
    "# Build the model and expose input and output sockets of graphsage model\n",
    "# for link prediction\n",
    "x_inp, x_out = graphsage.in_out_tensors()"
   ]
  },
  {
   "cell_type": "code",
   "execution_count": 13,
   "metadata": {},
   "outputs": [
    {
     "name": "stdout",
     "output_type": "stream",
     "text": [
      "link_classification: using 'ip' method to combine node embeddings into edge embeddings\n"
     ]
    }
   ],
   "source": [
    "prediction = link_classification(\n",
    "    output_dim=1, output_act=\"relu\", edge_embedding_method=\"ip\"\n",
    ")(x_out)"
   ]
  },
  {
   "cell_type": "code",
   "execution_count": 14,
   "metadata": {},
   "outputs": [],
   "source": [
    "model = keras.Model(inputs=x_inp, outputs=prediction)\n",
    "\n",
    "model.compile(\n",
    "    optimizer=keras.optimizers.Adam(lr=1e-3),\n",
    "    loss=keras.losses.binary_crossentropy,\n",
    "    metrics=[\"acc\"],\n",
    ")"
   ]
  },
  {
   "cell_type": "code",
   "execution_count": 15,
   "metadata": {},
   "outputs": [
    {
     "name": "stdout",
     "output_type": "stream",
     "text": [
      "WARNING:tensorflow:sample_weight modes were coerced from\n",
      "  ...\n",
      "    to  \n",
      "  ['...']\n",
      "137/137 [==============================] - 9s 63ms/step - loss: 4.6993 - acc: 0.2232\n",
      "WARNING:tensorflow:sample_weight modes were coerced from\n",
      "  ...\n",
      "    to  \n",
      "  ['...']\n",
      "152/152 [==============================] - 9s 60ms/step - loss: 4.9185 - acc: 0.2115\n",
      "\n",
      "Train Set Metrics of the initial (untrained) model:\n",
      "\tloss: 4.6993\n",
      "\tacc: 0.2232\n",
      "\n",
      "Test Set Metrics of the initial (untrained) model:\n",
      "\tloss: 4.9185\n",
      "\tacc: 0.2115\n"
     ]
    }
   ],
   "source": [
    "#Evaluate the initial (untrained) model on the train and test set\n",
    "\n",
    "init_train_metrics = model.evaluate(train_flow)\n",
    "init_test_metrics = model.evaluate(test_flow)\n",
    "\n",
    "print(\"\\nTrain Set Metrics of the initial (untrained) model:\")\n",
    "for name, val in zip(model.metrics_names, init_train_metrics):\n",
    "    print(\"\\t{}: {:0.4f}\".format(name, val))\n",
    "\n",
    "print(\"\\nTest Set Metrics of the initial (untrained) model:\")\n",
    "for name, val in zip(model.metrics_names, init_test_metrics):\n",
    "    print(\"\\t{}: {:0.4f}\".format(name, val))"
   ]
  },
  {
   "cell_type": "code",
   "execution_count": 16,
   "metadata": {},
   "outputs": [
    {
     "name": "stdout",
     "output_type": "stream",
     "text": [
      "WARNING:tensorflow:sample_weight modes were coerced from\n",
      "  ...\n",
      "    to  \n",
      "  ['...']\n",
      "WARNING:tensorflow:sample_weight modes were coerced from\n",
      "  ...\n",
      "    to  \n",
      "  ['...']\n",
      "Train for 137 steps, validate for 152 steps\n",
      "Epoch 1/20\n",
      "137/137 - 18s - loss: 0.8870 - acc: 0.4662 - val_loss: 4.9296 - val_acc: 0.5000\n",
      "Epoch 2/20\n",
      "137/137 - 17s - loss: 0.7881 - acc: 0.5426 - val_loss: 5.1018 - val_acc: 0.5000\n",
      "Epoch 3/20\n",
      "137/137 - 16s - loss: 0.7667 - acc: 0.5587 - val_loss: 5.2838 - val_acc: 0.5000\n",
      "Epoch 4/20\n",
      "137/137 - 16s - loss: 0.7560 - acc: 0.5683 - val_loss: 5.2294 - val_acc: 0.5000\n",
      "Epoch 5/20\n",
      "137/137 - 16s - loss: 0.7379 - acc: 0.5639 - val_loss: 5.3598 - val_acc: 0.5000\n",
      "Epoch 6/20\n",
      "137/137 - 17s - loss: 0.7449 - acc: 0.5595 - val_loss: 5.5336 - val_acc: 0.5000\n",
      "Epoch 7/20\n",
      "137/137 - 16s - loss: 0.7335 - acc: 0.5742 - val_loss: 5.3881 - val_acc: 0.5000\n",
      "Epoch 8/20\n",
      "137/137 - 15s - loss: 0.7284 - acc: 0.5661 - val_loss: 5.3773 - val_acc: 0.5000\n",
      "Epoch 9/20\n",
      "137/137 - 19s - loss: 0.7430 - acc: 0.5518 - val_loss: 5.5021 - val_acc: 0.5000\n",
      "Epoch 10/20\n",
      "137/137 - 20s - loss: 0.7214 - acc: 0.5679 - val_loss: 5.3575 - val_acc: 0.5000\n",
      "Epoch 11/20\n",
      "137/137 - 19s - loss: 0.7314 - acc: 0.5709 - val_loss: 5.2661 - val_acc: 0.5000\n",
      "Epoch 12/20\n",
      "137/137 - 17s - loss: 0.7350 - acc: 0.5540 - val_loss: 5.4018 - val_acc: 0.5000\n",
      "Epoch 13/20\n",
      "137/137 - 18s - loss: 0.7361 - acc: 0.5521 - val_loss: 5.2952 - val_acc: 0.5000\n",
      "Epoch 14/20\n",
      "137/137 - 17s - loss: 0.7160 - acc: 0.5668 - val_loss: 5.3052 - val_acc: 0.5000\n",
      "Epoch 15/20\n",
      "137/137 - 18s - loss: 0.7257 - acc: 0.5558 - val_loss: 5.4079 - val_acc: 0.5000\n",
      "Epoch 16/20\n",
      "137/137 - 15s - loss: 0.7160 - acc: 0.5668 - val_loss: 5.3571 - val_acc: 0.5000\n",
      "Epoch 17/20\n",
      "137/137 - 16s - loss: 0.7164 - acc: 0.5503 - val_loss: 5.4662 - val_acc: 0.5000\n",
      "Epoch 18/20\n",
      "137/137 - 16s - loss: 0.7198 - acc: 0.5529 - val_loss: 5.3121 - val_acc: 0.5000\n",
      "Epoch 19/20\n",
      "137/137 - 16s - loss: 0.7244 - acc: 0.5591 - val_loss: 5.2045 - val_acc: 0.5000\n",
      "Epoch 20/20\n",
      "137/137 - 16s - loss: 0.7171 - acc: 0.5529 - val_loss: 5.4391 - val_acc: 0.5000\n"
     ]
    }
   ],
   "source": [
    "#Training the model\n",
    "history = model.fit(train_flow, epochs=epochs, validation_data=test_flow, verbose=2)"
   ]
  },
  {
   "cell_type": "code",
   "execution_count": 17,
   "metadata": {},
   "outputs": [
    {
     "data": {
      "image/png": "[encoded data removed]",
      "text/plain": [
       "<Figure size 504x576 with 2 Axes>"
      ]
     },
     "metadata": {
      "needs_background": "light"
     },
     "output_type": "display_data"
    }
   ],
   "source": [
    "sg.utils.plot_history(history)"
   ]
  },
  {
   "cell_type": "code",
   "execution_count": 18,
   "metadata": {},
   "outputs": [
    {
     "name": "stdout",
     "output_type": "stream",
     "text": [
      "WARNING:tensorflow:sample_weight modes were coerced from\n",
      "  ...\n",
      "    to  \n",
      "  ['...']\n",
      "137/137 [==============================] - 6s 46ms/step - loss: 5.2632 - acc: 0.5000\n",
      "WARNING:tensorflow:sample_weight modes were coerced from\n",
      "  ...\n",
      "    to  \n",
      "  ['...']\n",
      "152/152 [==============================] - 8s 50ms/step - loss: 5.4391 - acc: 0.5000\n",
      "\n",
      "Train Set Metrics of the trained model:\n",
      "\tloss: 5.2632\n",
      "\tacc: 0.5000\n",
      "\n",
      "Test Set Metrics of the trained model:\n",
      "\tloss: 5.4391\n",
      "\tacc: 0.5000\n"
     ]
    }
   ],
   "source": [
    "#Evaluate the trained model on test citation links:\n",
    "train_metrics = model.evaluate(train_flow)\n",
    "test_metrics = model.evaluate(test_flow)\n",
    "\n",
    "print(\"\\nTrain Set Metrics of the trained model:\")\n",
    "for name, val in zip(model.metrics_names, train_metrics):\n",
    "    print(\"\\t{}: {:0.4f}\".format(name, val))\n",
    "\n",
    "print(\"\\nTest Set Metrics of the trained model:\")\n",
    "for name, val in zip(model.metrics_names, test_metrics):\n",
    "    print(\"\\t{}: {:0.4f}\".format(name, val))"
   ]
  },
  {
   "cell_type": "code",
   "execution_count": null,
   "metadata": {},
   "outputs": [],
   "source": []
  }
 ],
 "metadata": {
  "kernelspec": {
   "display_name": "Python 3",
   "language": "python",
   "name": "python3"
  },
  "language_info": {
   "codemirror_mode": {
    "name": "ipython",
    "version": 3
   },
   "file_extension": ".py",
   "mimetype": "text/x-python",
   "name": "python",
   "nbconvert_exporter": "python",
   "pygments_lexer": "ipython3",
   "version": "3.7.7"
  }
 },
 "nbformat": 4,
 "nbformat_minor": 4
}

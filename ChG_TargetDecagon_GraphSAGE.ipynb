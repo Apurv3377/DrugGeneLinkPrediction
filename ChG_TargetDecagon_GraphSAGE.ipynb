{
 "cells": [
  {
   "cell_type": "code",
   "execution_count": 1,
   "metadata": {},
   "outputs": [
    {
     "name": "stderr",
     "output_type": "stream",
     "text": [
      "\n",
      "Bad key \"text.kerning_factor\" on line 4 in\n",
      "/home/apurv/anaconda3/envs/tf/lib/python3.7/site-packages/matplotlib/mpl-data/stylelib/_classic_test_patch.mplstyle.\n",
      "You probably need to get an updated matplotlibrc file from\n",
      "https://github.com/matplotlib/matplotlib/blob/v3.1.3/matplotlibrc.template\n",
      "or from the matplotlib source distribution\n"
     ]
    }
   ],
   "source": [
    "import networkx as nx\n",
    "import matplotlib.pyplot as plt\n",
    "import netwulf as nw\n",
    "from netwulf import visualize\n",
    "import pandas as pd\n",
    "from statistics import mean\n",
    "import stellargraph as sg"
   ]
  },
  {
   "cell_type": "code",
   "execution_count": 2,
   "metadata": {},
   "outputs": [
    {
     "name": "stdout",
     "output_type": "stream",
     "text": [
      "       drug  gene\n",
      "688       0     1\n",
      "10123     0     1\n",
      "5739      0     1\n",
      "StellarGraph: Undirected multigraph\n",
      " Nodes: 3932, Edges: 18690\n",
      "\n",
      " Node types:\n",
      "  default: [3932]\n",
      "    Features: float32 vector, length 2\n",
      "    Edge types: default-default->default\n",
      "\n",
      " Edge types:\n",
      "    default-default->default: [18690]\n",
      "        Weights: all 1 (default)\n",
      "Average Degree : 9.506612410986776\n"
     ]
    }
   ],
   "source": [
    "edges = pd.read_csv('/home/apurv/Desktop/datasc/Phase2/ChG-TargetDecagon_targets.csv', sep = ',')\n",
    "# GraphSAGE and GAT Preprocessing \n",
    "# Step 1 Loading Graph Data (Making it Homogenous)\n",
    "# Treating drug and gene name as an index and creating one-hot vector \n",
    "\n",
    "drugs = pd.DataFrame(index=pd.unique(edges[\"#Drug\"])).assign(drug=1, gene=0)\n",
    "genes = pd.DataFrame(index=pd.unique(edges[\"Gene\"])).assign(drug=0, gene=1)\n",
    "\n",
    "nodes = pd.concat([drugs, genes])\n",
    "Decagongraphv = sg.StellarGraph(\n",
    "    nodes, \n",
    "    edges,\n",
    "    source_column=\"#Drug\", \n",
    "    target_column=\"Gene\",\n",
    ")\n",
    "# Need to write Steller Graph constructor to create a graph with one node type\n",
    "print(nodes.sample(3))\n",
    "print(Decagongraphv.info())\n",
    "G=Decagongraphv.node_degrees()\n",
    "print('Average Degree : ' + str(mean(G[k] for k in G)))"
   ]
  },
  {
   "cell_type": "code",
   "execution_count": null,
   "metadata": {},
   "outputs": [],
   "source": []
  }
 ],
 "metadata": {
  "kernelspec": {
   "display_name": "Python 3",
   "language": "python",
   "name": "python3"
  },
  "language_info": {
   "codemirror_mode": {
    "name": "ipython",
    "version": 3
   },
   "file_extension": ".py",
   "mimetype": "text/x-python",
   "name": "python",
   "nbconvert_exporter": "python",
   "pygments_lexer": "ipython3",
   "version": "3.7.7"
  }
 },
 "nbformat": 4,
 "nbformat_minor": 4
}
